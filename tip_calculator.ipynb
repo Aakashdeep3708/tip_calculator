{
 "cells": [
  {
   "cell_type": "code",
   "execution_count": null,
   "id": "b424c040",
   "metadata": {},
   "outputs": [],
   "source": [
    "print(\"Welcome to the tip calculator\")\n",
    "total_bill=float(input(\"What is the total bill :\"))\n",
    "tip=int(input(\"what percentage tip would you like to give? 10, 12 or 15 :\"))\n",
    "people=int(input(\"number of people to split the bill :\"))\n",
    "split=round((tip/100*total_bill+total_bill)/people,2)\n",
    "print(f\"each person should pay {split} rupees\")\n"
   ]
  },
  {
   "cell_type": "code",
   "execution_count": null,
   "id": "00dbecd3",
   "metadata": {},
   "outputs": [],
   "source": []
  }
 ],
 "metadata": {
  "kernelspec": {
   "display_name": "Python 3 (ipykernel)",
   "language": "python",
   "name": "python3"
  },
  "language_info": {
   "codemirror_mode": {
    "name": "ipython",
    "version": 3
   },
   "file_extension": ".py",
   "mimetype": "text/x-python",
   "name": "python",
   "nbconvert_exporter": "python",
   "pygments_lexer": "ipython3",
   "version": "3.11.5"
  }
 },
 "nbformat": 4,
 "nbformat_minor": 5
}
